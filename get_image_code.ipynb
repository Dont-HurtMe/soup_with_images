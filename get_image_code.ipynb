{
 "cells": [
  {
   "cell_type": "code",
   "execution_count": 2,
   "id": "88d31468-058a-46a6-8aa3-9a324288db5d",
   "metadata": {},
   "outputs": [],
   "source": [
    "# pip install requests beautifulsoup4"
   ]
  },
  {
   "cell_type": "code",
   "execution_count": 8,
   "id": "01a9813f-6f89-4f9d-bd9e-ed307d26f17f",
   "metadata": {},
   "outputs": [
    {
     "data": {
      "text/plain": [
       "'D:/WAIFU-SPACE/genshin_official_img'"
      ]
     },
     "execution_count": 8,
     "metadata": {},
     "output_type": "execute_result"
    }
   ],
   "source": []
  },
  {
   "cell_type": "code",
   "execution_count": 1,
   "id": "067443da-7d83-461b-9778-b8e91e258cf1",
   "metadata": {},
   "outputs": [],
   "source": [
    "import os\n",
    "import requests\n",
    "from bs4 import BeautifulSoup\n",
    "from tqdm import tqdm"
   ]
  },
  {
   "cell_type": "code",
   "execution_count": 2,
   "id": "39b3114d-1336-4ec0-9427-b337438108fd",
   "metadata": {},
   "outputs": [],
   "source": [
    "url = 'https://genshin.global/art-gallery/official-artwork/'\n",
    "folder_path_name = 'genshin_official_img'\n",
    "base_dir = os.getcwd()\n",
    "\n",
    "folder_path = os.path.join(base_dir,\n",
    "                           folder_path_name).replace('\\\\', '/')\n",
    "os.makedirs(os.path.join(base_dir,\n",
    "                         folder_path), \n",
    "            exist_ok=True)\n",
    "\n",
    "# get Data html (xpath)\n",
    "response = requests.get(url)\n",
    "soup = BeautifulSoup(response.text, 'html.parser')"
   ]
  },
  {
   "cell_type": "code",
   "execution_count": 25,
   "id": "9ca2983f-2fb0-4e9a-ab78-2322c58ea30a",
   "metadata": {},
   "outputs": [
    {
     "name": "stderr",
     "output_type": "stream",
     "text": [
      "100%|█████████████████████████████████████████████████████████████████████████████████████████████| 915/915 [03:42<00:00,  4.10it/s]\n"
     ]
    }
   ],
   "source": [
    "# dowload Images\n",
    "from urllib.parse import urljoin, urlparse\n",
    "\n",
    "img_tags = soup.find_all('img')\n",
    "for img_tag in tqdm(img_tags):\n",
    "    img_url = img_tag.get('src')\n",
    "    if img_url and img_url.lower().endswith('.png') or img_url and img_url.lower().endswith('.jpg'):\n",
    "        # creat URL\n",
    "        img_url = urljoin(url, img_url)\n",
    "        img_data = requests.get(img_url).content\n",
    "        img_name = os.path.basename(urlparse(img_url).path)\n",
    "        with open(os.path.join(folder_path, img_name), 'wb') as img_file:\n",
    "            img_file.write(img_data)"
   ]
  },
  {
   "cell_type": "code",
   "execution_count": 10,
   "id": "c67067e2-1a5e-49b8-a88d-841ded95c764",
   "metadata": {},
   "outputs": [
    {
     "data": {
      "text/plain": [
       "'D:\\\\WAIFU-SPACE'"
      ]
     },
     "execution_count": 10,
     "metadata": {},
     "output_type": "execute_result"
    }
   ],
   "source": [
    "base_dir"
   ]
  },
  {
   "cell_type": "code",
   "execution_count": 14,
   "id": "ffd84d72-f8eb-495c-acfe-dcda173aaaaf",
   "metadata": {},
   "outputs": [
    {
     "data": {
      "text/plain": [
       "'D:\\\\WAIFU-SPACE\\\\all_images_official.zip'"
      ]
     },
     "execution_count": 14,
     "metadata": {},
     "output_type": "execute_result"
    }
   ],
   "source": [
    "import shutil\n",
    "# from IPython.display import FileLink\n",
    "\n",
    "# folder to zip file\n",
    "source_folder = os.path.join(base_dir,'genshin_official_img').replace('\\\\', '/')\n",
    "zip_file_name = os.path.join(base_dir,'all_images_official.zip').replace('\\\\', '/')\n",
    "shutil.make_archive(zip_file_name.replace('.zip', ''), 'zip', source_folder)\n",
    "# FileLink(zip_file_name)"
   ]
  },
  {
   "cell_type": "code",
   "execution_count": 25,
   "id": "e04e9cbe-02bd-4512-9322-f04724d32f0d",
   "metadata": {},
   "outputs": [
    {
     "name": "stdout",
     "output_type": "stream",
     "text": [
      "dowload images link .rar ==> https://drive.google.com/file/d/1OR4NzPtUKf11A9Kbp8PErP6Pf1mCQZ_r/view?usp=drive_link\n",
      "\n"
     ]
    }
   ],
   "source": [
    "print('''dowload images link .rar ==> https://drive.google.com/file/d/1OR4NzPtUKf11A9Kbp8PErP6Pf1mCQZ_r/view?usp=drive_link\n",
    "''')"
   ]
  },
  {
   "cell_type": "code",
   "execution_count": null,
   "id": "a7213b42-b228-448e-b7e3-d6e55895977b",
   "metadata": {},
   "outputs": [],
   "source": []
  },
  {
   "cell_type": "code",
   "execution_count": null,
   "id": "bc2d3368-18dc-4843-bfbe-08f638772673",
   "metadata": {},
   "outputs": [],
   "source": []
  }
 ],
 "metadata": {
  "kernelspec": {
   "display_name": "Python 3 (ipykernel)",
   "language": "python",
   "name": "python3"
  },
  "language_info": {
   "codemirror_mode": {
    "name": "ipython",
    "version": 3
   },
   "file_extension": ".py",
   "mimetype": "text/x-python",
   "name": "python",
   "nbconvert_exporter": "python",
   "pygments_lexer": "ipython3",
   "version": "3.10.7"
  }
 },
 "nbformat": 4,
 "nbformat_minor": 5
}
